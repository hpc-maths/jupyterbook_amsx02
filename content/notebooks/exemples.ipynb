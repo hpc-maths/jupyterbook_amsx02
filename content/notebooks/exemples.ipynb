{
 "cells": [
  {
   "cell_type": "code",
   "execution_count": null,
   "id": "0e974c67",
   "metadata": {},
   "outputs": [],
   "source": [
    "#\n",
    "#    Notebook de cours AMS-X02 - Cours 2 - M. Massot 2020-2021 - Ecole polytechnique\n",
    "#    ----------   \n",
    "#    Exemples de systèmes dynamiques\n",
    "#    \n",
    "#    Auteurs : L. Séries et M. Massot - (C) 2021\n",
    "#    "
   ]
  },
  {
   "cell_type": "code",
   "execution_count": null,
   "id": "d6f20eaa",
   "metadata": {},
   "outputs": [],
   "source": [
    "import numpy as np\n",
    "from scipy.integrate import solve_ivp\n",
    "import plotly.graph_objects as go\n",
    "from plotly.subplots import make_subplots\n",
    "import plotly.io as pio\n",
    "pio.templates.default = \"seaborn\""
   ]
  },
  {
   "cell_type": "markdown",
   "id": "2db7f983",
   "metadata": {},
   "source": [
    "# Exemples de systèmes dynamiques"
   ]
  },
  {
   "cell_type": "markdown",
   "id": "92e6f441",
   "metadata": {},
   "source": [
    "## Modèle de Brusselator\n",
    "\n",
    "La dynamique de la réaction oscillante découverte par Belousov et Zhabotinsky, peut être modélisée par le modèle dit de Brusselator en fonction de deux paramètres $a$ et $b$ :\n",
    "\n",
    "$$\n",
    "\\left\\{\\begin{aligned}\n",
    "{\\mathrm d_t} y_1 & = a - (b+1) y_1 + y_1^2y_2\\\\\n",
    "{\\mathrm d_t} y_2 & = b y_1 - y_1^2y_2\n",
    "\\end{aligned}\\right.\n",
    "$$"
   ]
  },
  {
   "cell_type": "code",
   "execution_count": null,
   "id": "e093b87c",
   "metadata": {
    "tags": [
     "hide_input"
    ]
   },
   "outputs": [],
   "source": [
    "class brusselator_model:\n",
    "\n",
    "    def __init__(self, a, b) :\n",
    "        self.a = a\n",
    "        self.b = b\n",
    "    \n",
    "    def fcn(self, t, y):\n",
    "        y1, y2 = y\n",
    "        a = self.a\n",
    "        b = self.b \n",
    "        y1_dot = a - (b+1)*y1 + y1*y1*y2 \n",
    "        y2_dot = b*y1 - y1*y1*y2  \n",
    "        return np.array([y1_dot, y2_dot])"
   ]
  },
  {
   "cell_type": "markdown",
   "id": "0002abc5",
   "metadata": {},
   "source": [
    "### Solution numérique"
   ]
  },
  {
   "cell_type": "code",
   "execution_count": null,
   "id": "5cb332d5",
   "metadata": {},
   "outputs": [],
   "source": [
    "tini = 0. \n",
    "tend = 40.\n",
    "yini = (1.5, 3.)\n",
    "\n",
    "bm = brusselator_model(a=0.7, b=3)\n",
    "fcn = bm.fcn  \n",
    "sol_exa = solve_ivp(fcn, (tini, tend), yini, method=\"RK45\", rtol=1.e-10, atol=1.e-10)\n",
    "\n",
    "fig = make_subplots(rows=2, cols=1, subplot_titles=(\"Espace des phases\", \"Solutions\"), vertical_spacing=0.15)\n",
    "fig.add_trace(go.Scatter(x=sol_exa.y[0], y=sol_exa.y[1], mode=\"lines\", showlegend=False), row=1, col=1)\n",
    "fig.add_trace(go.Scatter(x=sol_exa.t, y=sol_exa.y[0], mode=\"lines\", name=\"y1\"), row=2, col=1)\n",
    "fig.add_trace(go.Scatter(x=sol_exa.t, y=sol_exa.y[1], mode=\"lines\", name=\"y2\"), row=2, col=1)\n",
    "\n",
    "steps = []\n",
    "for i, a_i in enumerate(np.arange(0.7, 1.71, 0.1)):\n",
    "    bm = brusselator_model(a=a_i, b=3)\n",
    "    fcn = bm.fcn  \n",
    "    sol_exa = solve_ivp(fcn, (tini, tend), yini, method=\"RK45\", rtol=1.e-10, atol=1.e-10)\n",
    "    step = dict(method=\"update\", label = f\"{a_i:.2f}\", args=[{\"x\":[sol_exa.y[0], sol_exa.t, sol_exa.t],\n",
    "                                                              \"y\":[sol_exa.y[1], sol_exa.y[0], sol_exa.y[1]]}])\n",
    "    steps.append(step)\n",
    "sliders = [dict(currentvalue={'prefix': 'a = '}, steps=steps)]\n",
    "\n",
    "fig.update_xaxes(title_text=\"u1\", range=[0, 6], row=1)\n",
    "fig.update_yaxes(title_text=\"u2\", row=1)\n",
    "fig.update_xaxes(title_text=\"t\", row=2)\n",
    "fig.update_layout(sliders=sliders, height=800, legend=dict(x=0.01, y=0.37, bgcolor='rgba(0,0,0,0.1)'))\n",
    "fig['layout']['sliders'][0]['pad']=dict(t= 50)\n",
    "fig.show()"
   ]
  },
  {
   "cell_type": "markdown",
   "id": "da0bfd3d",
   "metadata": {},
   "source": [
    "## Système de Lorenz\n",
    "\n",
    "Le système de Lorenz est un système de trois équations différentielles ordinaires : \n",
    "\n",
    "$$\n",
    "\\left\\{\\begin{aligned}\n",
    "{\\mathrm d_t} x & = \\sigma \\, (y - x)\\\\\n",
    "{\\mathrm d_t} y & = \\rho x - y - xz\\\\ \n",
    "{\\mathrm d_t} z & = xy - \\beta z\n",
    "\\end{aligned}\\right.\n",
    "$$"
   ]
  },
  {
   "cell_type": "code",
   "execution_count": null,
   "id": "172a91a4",
   "metadata": {
    "tags": [
     "hide_input"
    ]
   },
   "outputs": [],
   "source": [
    "class lorenz_model():\n",
    "\n",
    "    def __init__(self, sigma, rho, beta):\n",
    "        self.sigma = sigma\n",
    "        self.rho = rho\n",
    "        self.beta = beta\n",
    "\n",
    "    def fcn(self, t, xyz):\n",
    "        x, y, z = xyz\n",
    "        sigma = self.sigma\n",
    "        rho = self.rho\n",
    "        beta = self.beta\n",
    "        x_dot = sigma*(y-x)\n",
    "        y_dot = rho*x - y - x*z\n",
    "        z_dot = x*y - beta*z\n",
    "        return (x_dot, y_dot, z_dot)"
   ]
  },
  {
   "cell_type": "markdown",
   "id": "6d22c062",
   "metadata": {},
   "source": [
    "### Solution numérique"
   ]
  },
  {
   "cell_type": "code",
   "execution_count": null,
   "id": "6f0f4b47",
   "metadata": {},
   "outputs": [],
   "source": [
    "lm = lorenz_model(sigma=10, rho=28, beta=8/3)\n",
    "fcn = lm.fcn  \n",
    "    \n",
    "tini = 0. \n",
    "tend = 100.\n",
    "    \n",
    "sol_ini = (-10, -7, 35)        \n",
    "sol = solve_ivp(fcn, (tini, tend), sol_ini, method=\"RK45\", rtol=1.e-8, atol=1.e-10)\n",
    "x = sol.y[0]; y = sol.y[1]; z = sol.y[2]\n",
    "\n",
    "fig = go.Figure()\n",
    "fig.add_trace(go.Scatter3d(x=x, y=y, z=z, mode=\"lines\"))\n",
    "fig.update_layout(scene_camera=dict(eye=dict(x=-1.3, y=1.3, z=1.3)), title=\"Espace des phases\")\n",
    "fig.show()\n",
    "\n",
    "fig_sol = go.Figure()\n",
    "fig_sol.add_trace(go.Scatter(x=sol.t, y=x, mode=\"lines\", name=\"evolution de la variable x\"))\n",
    "fig_sol.update_layout(title=\"Evolution de la variable x\")\n",
    "fig_sol.show()"
   ]
  },
  {
   "cell_type": "markdown",
   "id": "d3106007",
   "metadata": {},
   "source": [
    "### Perturbations des conditions initiales"
   ]
  },
  {
   "cell_type": "code",
   "execution_count": null,
   "id": "f6bf1b0b",
   "metadata": {},
   "outputs": [],
   "source": [
    "sol_ini_pert = (-10.000000001, -7, 35)\n",
    "\n",
    "sol_pert = solve_ivp(fcn, (tini, tend), sol_ini_pert, method=\"RK45\", rtol=1.e-8, atol=1.e-10)\n",
    "x_pert = sol_pert.y[0]; y_pert = sol_pert.y[1]; z_pert = sol_pert.y[2]\n",
    "\n",
    "fig = go.Figure()\n",
    "fig.add_trace(go.Scatter3d(x=x, y=y, z=z, mode=\"lines\", name=\"sol.\"))\n",
    "fig.add_trace(go.Scatter3d(x=x_pert, y=y_pert, z=z_pert, mode=\"lines\", name = \"sol. perturbée\"))\n",
    "fig.update_layout(scene_camera=dict(eye=dict(x=-1.3, y=1.3, z=1.3)), title=\"Espace des phases\")\n",
    "fig.show()\n",
    "\n",
    "fig_sol = go.Figure()\n",
    "fig_sol.add_trace(go.Scatter(x=sol.t, y=x, mode=\"lines\", name=\"sol.\"))\n",
    "fig_sol.add_trace(go.Scatter(x=sol_pert.t, y=x_pert, mode=\"lines\", name=\"sol. perturbée\"))\n",
    "fig_sol.update_layout(title=\"Evolution de la variable x\")\n",
    "fig_sol.show()"
   ]
  },
  {
   "cell_type": "markdown",
   "id": "a1f0dd63",
   "metadata": {},
   "source": [
    "## Mécanique céleste : problème à trois corps\n",
    "\n",
    "On considère le système composé de trois corps : le Soleil, Jupiter et Saturne, les trois astres les plus massifs du système solaire. On fait l’hypothèse que le système est isolé et que les seules forces qui s’exercent sont les forces de gravitation entre les trois corps. \n",
    "\n",
    "Les masses respectives des trois corps soit noteés $m_i$, $i\\in{0,1,2}$ et $G$ désigne la constante universelle de gravitation. On note $p_i(t)\\in R^3$, $i\\in{0,1,2}$ les quantités de mouvement de chaque astre. \n",
    "\n",
    "Le second principe de Newton pour chaque astre s'écrit :\n",
    "\n",
    "$$\n",
    "{\\mathrm d}_t p_0 = \\vec F_{Sa\\rightarrow S} + \\vec F_{J\\rightarrow S},\\quad\n",
    "{\\mathrm d}_t p_1 = \\vec F_{S\\rightarrow J} + \\vec F_{Sa\\rightarrow J} ,\\quad\n",
    "{\\mathrm d}_t p_2 = \\vec F_{S\\rightarrow Sa} + \\vec F_{J\\rightarrow Sa},\n",
    "$$\n",
    "\n",
    "La force gravitationnelle $\\vec F_{S\\rightarrow P}$ exercée par un corps $S$ vers un corps $P$ est donné par la formule suivante :\n",
    "\n",
    "$$\n",
    "\\vec F_{S\\rightarrow P} = - \\vec F_{P\\rightarrow S} = - \\frac{G\\,m_S\\,m_P}{d^2} \\vec{u}, \n",
    "$$\n",
    "\n",
    "où $d$ est la distance entre $S$ à $P$ et $\\vec{u}$ un vecteur de longueur 1 dirigé de S vers P. "
   ]
  },
  {
   "cell_type": "code",
   "execution_count": null,
   "id": "f4dfc179",
   "metadata": {
    "tags": [
     "hide_input"
    ]
   },
   "outputs": [],
   "source": [
    "class three_body_model:\n",
    "\n",
    "    def __init__(self):\n",
    "        self.m0 = 1.00000597682\n",
    "        self.m1 = 9.54786104043e-4\n",
    "        self.m2 = 2.85583733151e-4\n",
    "        self.G = 2.95912208286e-4\n",
    "\n",
    "    def fcn(self, t, y):\n",
    "        q = y[0:9]\n",
    "        p = y[9:18]\n",
    "        \n",
    "        q_dot = np.zeros(9)\n",
    "        p_dot = np.zeros(9)\n",
    "        \n",
    "        m0 = self.m0\n",
    "        m1 = self.m1\n",
    "        m2 = self.m2\n",
    "        G  = self.G\n",
    "        \n",
    "        q_dot[0:3] = p[0:3]/m0\n",
    "        q_dot[3:6] = p[3:6]/m1\n",
    "        q_dot[6:9] = p[6:9]/m2\n",
    "        \n",
    "        p_dot[0:3] = -( G*m0*m1*((q[0:3]-q[3:6])/np.power(np.linalg.norm(q[0:3]-q[3:6]),3)) \n",
    "                       +G*m0*m2*((q[0:3]-q[6:9])/np.power(np.linalg.norm(q[0:3]-q[6:9]),3)))\n",
    "        p_dot[3:6] = -( G*m1*m0*((q[3:6]-q[0:3])/np.power(np.linalg.norm(q[3:6]-q[0:3]),3))\n",
    "                       +G*m1*m2*((q[3:6]-q[6:9])/np.power(np.linalg.norm(q[3:6]-q[6:9]),3)))\n",
    "        p_dot[6:9] = -( G*m2*m0*((q[6:9]-q[0:3])/np.power(np.linalg.norm(q[6:9]-q[0:3]),3)) \n",
    "                       +G*m2*m1*((q[6:9]-q[3:6])/np.power(np.linalg.norm(q[6:9]-q[3:6]),3)))\n",
    "        \n",
    "        return np.concatenate((q_dot, p_dot))\n",
    "    \n",
    "    def hamiltonian(self, y):\n",
    "        m0 = self.m0\n",
    "        m1 = self.m1\n",
    "        m2 = self.m2\n",
    "        G = self.G\n",
    "        nt = y.shape[1]\n",
    "        neq = y.shape[0]\n",
    "        q = y[0:neq//2]\n",
    "        p = y[neq//2:neq]\n",
    "        ham = np.zeros(nt)\n",
    "\n",
    "        for i in range(nt):\n",
    "            ham[i] = ( 0.5*( (1/m0)*np.dot(p[0:3,i],p[0:3,i]) \n",
    "                            +(1/m1)*np.dot(p[3:6,i],p[3:6,i]) \n",
    "                            +(1/m2)*np.dot(p[6:9,i],p[6:9,i]) ) \n",
    "                      - G *( (m0*m1)/np.linalg.norm(q[0:3,i]-q[3:6,i]) \n",
    "                            +(m0*m2)/np.linalg.norm(q[0:3,i]-q[6:9,i])\n",
    "                            +(m1*m2)/np.linalg.norm(q[3:6,i]-q[6:9,i]) ) )\n",
    "\n",
    "        return ham"
   ]
  },
  {
   "cell_type": "code",
   "execution_count": null,
   "id": "94d2dc3e",
   "metadata": {
    "scrolled": false
   },
   "outputs": [],
   "source": [
    "# initialization\n",
    "m1 = 9.54786104043e-4\n",
    "m2 = 2.85583733151e-4\n",
    "\n",
    "qini = np.zeros(9)\n",
    "qini[0] =  0.;        qini[1] =  0.;        qini[2] =  0.\n",
    "qini[3] = -3.5023653; qini[4] = -3.8169847; qini[5] = -1.5507963\n",
    "qini[6] =  9.0755314; qini[7] = -3.0458353; qini[8] = -1.6483708\n",
    "\n",
    "pini = np.zeros(9)\n",
    "pini[0] =  0.;            pini[1] =  0.;            pini[2] =  0.\n",
    "pini[3] =  0.00565429*m1; pini[4] = -0.00412490*m1; pini[5] = -0.00190589*m1\n",
    "pini[6] =  0.00168318*m2; pini[7] =  0.00483525*m2; pini[8] =  0.00192462*m2\n",
    "\n",
    "yini = np.concatenate((qini, pini))\n",
    "\n",
    "tini = 0.\n",
    "tend = 11000.\n",
    "nt = 1501\n",
    "\n",
    "tbm = three_body_model()\n",
    "fcn = tbm.fcn\n",
    "\n",
    "sol = solve_ivp(fcn, (tini, tend), yini, method=\"RK45\", rtol=1.e-12, atol=1.e-12)\n",
    "\n",
    "fig = go.Figure()\n",
    "color = fig.layout.template.layout.colorway\n",
    "fig.add_trace(go.Scatter3d(x=[qini[0]], y=[qini[1]], z=[qini[2]], mode=\"markers\", marker=dict(size=8, color=color[1]), \n",
    "                           name=\"soleil\"))\n",
    "fig.add_trace(go.Scatter3d(x=[qini[3]], y=[qini[4]], z=[qini[5]], mode=\"markers\", \n",
    "                           marker=dict(size=6, color=color[0]), showlegend=False))\n",
    "fig.add_trace(go.Scatter3d(x=sol.y[3]-sol.y[0], y=sol.y[4]-sol.y[0], z=sol.y[5]-sol.y[0], mode='lines', \n",
    "                           line_color=color[0], line_width=6, name='Jupiter'))\n",
    "fig.add_trace(go.Scatter3d(x=[qini[6]], y=[qini[7]], z=[qini[8]], mode=\"markers\", \n",
    "                           marker=dict(size=6, color=color[2]), showlegend=False))\n",
    "fig.add_trace(go.Scatter3d(x=sol.y[6]-sol.y[0], y=sol.y[7]-sol.y[0], z=sol.y[8]-sol.y[0], mode='lines', \n",
    "                           line_color=color[2], line_width=6, name='Saturne'))\n",
    "fig.show()"
   ]
  },
  {
   "cell_type": "markdown",
   "id": "267fb7ab",
   "metadata": {},
   "source": [
    "### Hamiltonien"
   ]
  },
  {
   "cell_type": "code",
   "execution_count": null,
   "id": "fa18dc97",
   "metadata": {},
   "outputs": [],
   "source": [
    "ham = tbm.hamiltonian(sol.y)\n",
    "\n",
    "fig = go.Figure()\n",
    "fig.add_trace(go.Scatter(x=sol.t, y=ham))\n",
    "fig.update_layout(title=\"Hamiltonian\")\n",
    "fig.update_yaxes(range=[-3.157e-8, -3.156e-8], exponentformat='e')\n",
    "fig.show()"
   ]
  },
  {
   "cell_type": "markdown",
   "id": "8c7eee63",
   "metadata": {},
   "source": [
    "## L'orbite d'Arenstorf\n",
    "\n",
    "Nous considérons un problème réduit à trois corps constitué du mouvement d'un satellite dans le cadre de l'attraction de la lune et de la terre. \n",
    "Pour les besoins de l'exercice, nous supposons que le système terre-lune est isolé et en rotation circulaire à vitesse constante dans un mouvement plan avec le centre de gravité de masse situé à l'origine, une solution classique d'une orbite périodique circulaire en mécanique céleste de deux corps isolés (appelé problème à deux corps classiquement).\n",
    "Nous supposons aussi que la masse du satellite $\\epsilon$ est suffisamment faible par rapport à la masse de la terre $1-\\mu$ et la masse de la lune $\\mu$ pour que nous puissions négliger son impact sur le système terre-lune.  Nous supposons également que le mouvement du satellite est régi par la loi de gravitation de Newton du fait de l'attraction des deux corps Terre et Lune.\n",
    "\n",
    "Le mouvement du satellite dans le plan complexe satisfait l'équation : \n",
    "\n",
    "$$\n",
    "\\epsilon\\, {\\mathrm d}_t^2 Y = \\frac{\\epsilon(1-\\mu)}{\\vert A-Y \\vert^2}\\, \\frac{A-Y}{\\vert A-Y\\vert}+ \\frac{\\epsilon\\mu}{\\vert B-Y\\vert^2}\\, \\frac{B-Y}{\\vert B-Y\\vert},\n",
    "$$\n",
    "\n",
    "où le satellite est repéré par la coordonnée dans le plan complexe $Y(t)$ et $A$ et $B$ représentent la position de la terre et de la lune respectivement.\n",
    "\n",
    "Pour éliminer le facteur $e^{it}$ dans $A=-\\mu\\,e^{it}$ et $A=(1-\\mu)e^{it}$, on introduit la variable $y=e^{-it}\\,Y = y_1+i\\,y_2$. Dans ce nouveau référentiel tournant, la terre et la lune sont immobiles. Nous avons $Y=e^{it}y$ et  ${\\mathrm d}_t^2 Y = -e^{it}y+2\\,i\\,e^{it}{\\mathrm d}_t y+e^{it}{\\mathrm d}_t^2 y$ et l'équation du mouvement s'écrit alors :\n",
    "\n",
    "$$\n",
    "{\\mathrm d}_t^2 y + 2\\,i\\,{\\mathrm d}_t y-y= (1-\\mu)\\,\\frac{-\\mu-y}{\\vert  \\mu+y\\vert ^3}+ \\mu\\, \\frac{1-\\mu-y}{\\vert  1-\\mu-y \\vert^3}.\n",
    "$$\n",
    "\n",
    "En introduisant les parties réelles et imaginaires de $y$ et en passant ensuite à un système d'équations différentielles de premier ordre, on obtient :\n",
    "\n",
    "$$\n",
    "\\begin{array}{rcl} \n",
    "{\\mathrm d}_t y_1 & = & y_3, \\\\ \n",
    "{\\mathrm d}_t y_2 & = & y_4, \\\\ \n",
    "{\\mathrm d}_t y_3 & = & y_1+2\\,y_4- (1-\\mu)(y_1+\\mu)/r_1^3 - \\mu (y_1-1+\\mu)/r_2^3, \\\\\n",
    "{\\mathrm d}_t y_4 & = & y_2-2\\,y_3- (1-\\mu)y_2/r_1^3 - \\mu y_2/r_2^3,\n",
    "\\end{array} \n",
    "$$\n",
    "\n",
    "avec $r_1=((y_1+\\mu)^2+y_2^2)^{1/2}$ and $((y_1-1+\\mu)^2+y_2^2)^{1/2}$ et $\\mu = 0.012277471$."
   ]
  },
  {
   "cell_type": "code",
   "execution_count": null,
   "id": "05487ce6",
   "metadata": {
    "tags": [
     "hide_input"
    ]
   },
   "outputs": [],
   "source": [
    "class arenstorf_model:\n",
    "\n",
    "    def __init__(self, mu):\n",
    "        self.mu = mu\n",
    "\n",
    "    def fcn(self, t, y) :\n",
    "        y1,y2,y3,y4 = y\n",
    "        mu = self.mu\n",
    "        r1 = np.sqrt((y1+mu)*(y1+mu) + y2*y2)\n",
    "        r2 = np.sqrt((y1-1+mu)*(y1-1+mu) + y2*y2)\n",
    "        y1_dot = y3\n",
    "        y2_dot = y4\n",
    "        y3_dot = y1 + 2*y4 - (1-mu)*(y1+mu)/(r1*r1*r1) - mu*(y1 - 1 + mu)/(r2*r2*r2)\n",
    "        y4_dot = y2 - 2*y3 - (1-mu)*y2/(r1*r1*r1) - mu*y2/(r2*r2*r2)\n",
    "        return (y1_dot, y2_dot, y3_dot, y4_dot)"
   ]
  },
  {
   "cell_type": "code",
   "execution_count": null,
   "id": "8ebc070a",
   "metadata": {},
   "outputs": [],
   "source": [
    "# Initialization\n",
    "yini = (-0.5655899165951338, 0.601315396569226, -0.45171183358756384, 0.23073427996775764)\n",
    "#yini = (0.994, 0., 0., -2.00158510637908252240537862224)\n",
    "\n",
    "tini = 0.\n",
    "tend = 18.\n",
    "\n",
    "mu = 0.012277471\n",
    "    \n",
    "am = arenstorf_model(mu)\n",
    "fcn = am.fcn\n",
    "\n",
    "tol = 1.e-12\n",
    "sol = solve_ivp(fcn, (tini, tend), yini, rtol=1e-10, atol=1e-10)\n",
    "\n",
    "fig_y1y2 = go.Figure()\n",
    "fig_y1y2.add_trace(go.Scatter(x=sol.y[0], y=sol.y[1], name=\"quasi-exact sol.\", showlegend=True))\n",
    "fig_y1y2.add_trace(go.Scatter(x=[mu], y=[0.], mode=\"markers\", marker=dict(size=10, color=\"black\"), name=\"Terre\"))\n",
    "fig_y1y2.add_trace(go.Scatter(x=[1-mu], y=[0], mode=\"markers\", marker=dict(size=6, color=\"brown\"), name=\"Lune\"))\n",
    "fig_y1y2.update_layout(title=\"Orbite d'Arenstorf\", xaxis_title=\"y1\", yaxis_title=\"y2\")\n",
    "fig_y1y2.show()\n",
    "\n",
    "fig_sol = go.Figure()\n",
    "fig_sol.add_trace(go.Scatter(x=sol.t, y=sol.y[0], name=\"y1\"))\n",
    "fig_sol.add_trace(go.Scatter(x=sol.t, y=sol.y[1], name=\"y2\"))\n",
    "fig_sol.add_trace(go.Scatter(x=sol.t, y=sol.y[2], name=\"y3\"))\n",
    "fig_sol.add_trace(go.Scatter(x=sol.t, y=sol.y[3], name=\"y4\"))\n",
    "fig_sol.update_layout(title=\"Evolution des solutions\", xaxis_title=\"t\")\n",
    "fig_sol.show()"
   ]
  },
  {
   "cell_type": "markdown",
   "id": "e194cdea",
   "metadata": {},
   "source": [
    "## Dynamique des populations"
   ]
  },
  {
   "cell_type": "markdown",
   "id": "55a59f30",
   "metadata": {},
   "source": [
    "### Modèled de Lotka-Voltera\n",
    "\n",
    "A.J. Lotka publie en 1925 un livre intitulé `Elements of Physical Biology` , où il se propose de représenter les cinétiques de populations vivant en communauté par des systèmes d'équations différentielles.\n",
    "Dans l'un des chapitres, il considère l'exemple d'une population d'animaux herbivores qui se nourrissent de plantes. Par analogie avec les équations utilisées pour la cinétique chimique, en représentant par $u_1(t)$ la masse totale des plantes et par $u_2(t)$ la masse totale des herbivores à l'instant $t$, Lotka propose le modèle suivant :\n",
    "\n",
    "$$\n",
    "\\left\\{\\begin{aligned}\n",
    "{\\mathrm d}_t u_1 & = u_1 \\, (1-u_2)\\\\\n",
    "{\\mathrm d}_t u_2 & = u_2 \\, (-k+u_1).\n",
    "\\end{aligned}\\right.\n",
    "$$"
   ]
  },
  {
   "cell_type": "code",
   "execution_count": null,
   "id": "20720d5b",
   "metadata": {
    "tags": [
     "hide_input"
    ]
   },
   "outputs": [],
   "source": [
    "class lotka_model:\n",
    "\n",
    "    def __init__(self, alpha):\n",
    "        self.alpha = alpha\n",
    "\n",
    "    def fcn(self, t, u):\n",
    "        u1, u2 = u\n",
    "        alpha = self.alpha\n",
    "        u1_dot = u1 * (1 - u2)\n",
    "        u2_dot = u2 * (-alpha + u1)\n",
    "        return (u1_dot, u2_dot)"
   ]
  },
  {
   "cell_type": "code",
   "execution_count": null,
   "id": "5e67c36c",
   "metadata": {},
   "outputs": [],
   "source": [
    "alpha = np.arange(0.5,2.6,0.2)\n",
    "\n",
    "lm = lotka_model(alpha[0])\n",
    "fcn = lm.fcn\n",
    "\n",
    "uini = (0.5, 0.5)\n",
    "tini = 0\n",
    "tend = 200\n",
    "\n",
    "tol = 1.e-8\n",
    "\n",
    "sol = solve_ivp(fcn, (tini, tend), uini, rtol=tol, atol=tol)\n",
    "u1 = sol.y[0]; u2 = sol.y[1]\n",
    "inv = u1 + u2 - np.log(u2 * np.power(u1,alpha[0]))\n",
    "\n",
    "fig = make_subplots(rows=2, cols=1, subplot_titles=(\"Espace des phases\", \"Solutions\"), vertical_spacing=0.15)\n",
    "fig.add_trace(go.Scatter(x=u1, y=u2, showlegend=False), row=1, col=1)\n",
    "fig.add_trace(go.Scatter(x=sol.t, y=u1, name=\"u1\"), row=2, col=1)\n",
    "fig.add_trace(go.Scatter(x=sol.t, y=u2, name=\"u2\"), row=2, col=1)\n",
    "\n",
    "#create slider\n",
    "steps = []\n",
    "for alpha_i in alpha:\n",
    "    lm = lotka_model(alpha_i)\n",
    "    fcn = lm.fcn\n",
    "    sol = solve_ivp(fcn, (tini, tend), uini, rtol=tol, atol=tol)\n",
    "    u1 = sol.y[0]; u2 = sol.y[1]\n",
    "    inv = u1 + u2 - np.log(u2 * np.power(u1,alpha_i))\n",
    "    step = dict(method=\"update\", label = f\"{alpha_i:.2f}\", args=[{\"x\": [u1,sol.t,sol.t], \"y\": [u2, u1, u2]}])\n",
    "    steps.append(step)\n",
    "sliders = [dict(currentvalue={'prefix': 'alpha = '}, steps=steps)]\n",
    "\n",
    "fig.update_xaxes(title_text=\"u1\", range=[0, 8], row=1)\n",
    "fig.update_yaxes(title_text=\"u2\", range=[0, 5], row=1)\n",
    "fig.update_xaxes(title_text=\"t\", row=2)\n",
    "fig.update_yaxes(title_text=\"t\", range=[0, 8], row=2)\n",
    "fig.update_layout(sliders=sliders, height=800, legend=dict(x=0.01, y=0.37, bgcolor='rgba(0,0,0,0.1)'))\n",
    "fig['layout']['sliders'][0]['pad']=dict(t=50)\n",
    "\n",
    "fig.show()"
   ]
  },
  {
   "cell_type": "markdown",
   "id": "7c057548",
   "metadata": {},
   "source": [
    "### Rosenzweig-MacArthur model\n",
    "\n",
    "Rapidement après l'introduction du modèle de Lotka-Volterra, diverses modifications ont été proposées pour le terme de prédation. En effet, le nombre de proies tuées par les prédateurs est dans ce modèle proportionnel au produit du nombre d'individus de chaque population, i.e. proportionnel à $u_1(t)u_2(t)$. Autrement dit, le nombre de proies tuées par prédateur croit proportionnellement au nombre de proies lui-même et il n'y a donc aucun effet de saturation ou de satiété. C'est qualitativement ce qu'on observe pour certaines populations de bactéries. Cependant, pour des organismes vivants plus complexes, comme des animaux, on s'attend à un comportement vraiment différent, où les prédateurs ne peuvent pas consommer plus qu'une quantité maximale de proies par unité de temps.\n",
    "\n",
    "L'écologue américain Buzz Holling a proposé en 1959 trois grands types de modélisation du nombre de proies tuées par\n",
    "prédateur : la première est celle du modèle de Lotka-Volterra (type I) et les deux autres introduisent un effet de saturation lorsque le nombre de proies dépasse un certain seuil (types II et III). Les types II et III diffèrent quand le nombre de proies est très petit et\n",
    "permettent de distinguer les prédateurs *généralistes* des prédateurs *spécialistes*.\n",
    "\n",
    "C'est en 1963 que les écologues américains Robert MacArthur et Michael L. Rosenzweig étudièrent le modèle proie-prédateur suivant :\n",
    "\n",
    "$$\n",
    "\\left\\{\\begin{aligned}\n",
    "{\\mathrm d}_t u_1  & = u_1 \\, \\Big( 1-\\frac{u_1}{\\gamma} \\Big) - \\frac{u_1 u_2}{1+u_1}\\\\\n",
    "{\\mathrm d}_t u_2  & = \\beta u_2 \\Big( \\frac{u_1}{1+u_1} - \\alpha \\Big).  \n",
    "\\end{aligned}\\right.\n",
    "$$\n",
    "\n",
    "Le terme de prédation est de type II."
   ]
  },
  {
   "cell_type": "code",
   "execution_count": null,
   "id": "37101587",
   "metadata": {
    "tags": [
     "hide_input"
    ]
   },
   "outputs": [],
   "source": [
    "class rosenzweig_model:\n",
    "\n",
    "    def __init__(self, alpha, K):\n",
    "        self.alpha = alpha\n",
    "        self.K = K\n",
    "\n",
    "    def fcn(self, t, u):\n",
    "        u1, u2 = u\n",
    "        alpha = self.alpha\n",
    "        K = self.K\n",
    "        u1_dot = u1 * (1 - (u1/K)) - ((u1*u2)/(1+u1))\n",
    "        u2_dot = u2 * ((u1/(1+u1)) - alpha)\n",
    "        return (u1_dot, u2_dot)"
   ]
  },
  {
   "cell_type": "code",
   "execution_count": null,
   "id": "0aa3fa8a",
   "metadata": {},
   "outputs": [],
   "source": [
    "alpha = np.arange(0.2,0.65,0.05)\n",
    "K = 2\n",
    "rm = rosenzweig_model(alpha[0], K)\n",
    "fcn = rm.fcn\n",
    "\n",
    "uini = (1., 1.)\n",
    "tini = 0\n",
    "tend = 200\n",
    "\n",
    "tol = 1.e-8\n",
    "\n",
    "sol = solve_ivp(fcn, (tini, tend), uini, rtol=tol, atol=tol)\n",
    "u1 = sol.y[0]; u2 = sol.y[1]\n",
    "\n",
    "fig = make_subplots(rows=2, cols=1, subplot_titles=(\"Espace des phases\", \"Solutions\"), vertical_spacing=0.15)\n",
    "fig.add_trace(go.Scatter(x=u1, y=u2, showlegend=False), row=1, col=1)\n",
    "fig.add_trace(go.Scatter(x=sol.t, y=u1, name=\"u1\", mode=\"lines\"), row=2, col=1)\n",
    "fig.add_trace(go.Scatter(x=sol.t, y=u2, name=\"u2\", mode=\"lines\"), row=2, col=1)\n",
    "\n",
    "#create slider\n",
    "steps = []\n",
    "for alpha_i in alpha:\n",
    "    rm = rosenzweig_model(alpha_i, K)\n",
    "    fcn = rm.fcn\n",
    "    sol = solve_ivp(fcn, (tini, tend), uini, rtol=tol, atol=tol)\n",
    "    u1 = sol.y[0]; u2 = sol.y[1]\n",
    "    step = dict(method=\"update\", label = f\"{alpha_i:.2f}\", args=[{\"x\": [u1,sol.t,sol.t], \"y\": [u2, u1, u2]}])\n",
    "    steps.append(step)\n",
    "sliders = [dict(currentvalue={'prefix': 'alpha = '}, steps=steps)]\n",
    "\n",
    "fig.update_xaxes(title_text=\"u1\", range=[-0.1, 2.5], row=1)\n",
    "fig.update_yaxes(title_text=\"u2\", range=[-0.1, 2.5], row=1)\n",
    "fig.update_xaxes(title_text=\"t\", row=2)\n",
    "fig.update_yaxes(range=[-0.1, 2.5], row=2)\n",
    "fig.update_layout(sliders=sliders, height=800, legend=dict(x=0.88, y=0.37, bgcolor='rgba(0,0,0,0.1)'))\n",
    "fig['layout']['sliders'][0]['pad']=dict(t=50)\n",
    "\n",
    "fig.show()"
   ]
  }
 ],
 "metadata": {
  "@webio": {
   "lastCommId": null,
   "lastKernelId": null
  },
  "celltoolbar": "Format de la Cellule Texte Brut",
  "kernelspec": {
   "display_name": "Python 3 (ipykernel)",
   "language": "python",
   "name": "python3"
  },
  "language_info": {
   "codemirror_mode": {
    "name": "ipython",
    "version": 3
   },
   "file_extension": ".py",
   "mimetype": "text/x-python",
   "name": "python",
   "nbconvert_exporter": "python",
   "pygments_lexer": "ipython3",
   "version": "3.9.7"
  }
 },
 "nbformat": 4,
 "nbformat_minor": 5
}
