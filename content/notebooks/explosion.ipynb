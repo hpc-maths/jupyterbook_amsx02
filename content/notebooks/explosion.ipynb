{
 "cells": [
  {
   "cell_type": "code",
   "execution_count": null,
   "metadata": {},
   "outputs": [],
   "source": [
    "#\n",
    "#    Notebook de cours AMS-X02 - Cours 2 - M. Massot 2020-2021 - Ecole polytechnique\n",
    "#    ----------   \n",
    "#    Explosion thermique\n",
    "#    \n",
    "#    Auteurs : L. Séries et M. Massot - (C) 2021\n",
    "#    "
   ]
  },
  {
   "cell_type": "code",
   "execution_count": null,
   "metadata": {},
   "outputs": [],
   "source": [
    "import numpy as np\n",
    "from scipy.integrate import solve_ivp\n",
    "from scipy.optimize import root\n",
    "import plotly.graph_objects as go\n",
    "from plotly.subplots import make_subplots\n",
    "import plotly.io as pio\n",
    "pio.templates.default = \"seaborn\""
   ]
  },
  {
   "cell_type": "markdown",
   "metadata": {},
   "source": [
    "#  Explosion thermique\n",
    "\n",
    "Nous abordons la théorie de l’explosion thermique étudiée par Semenov et Frank-Kamenetskii dans la première partie du XXème siècle. Nous considérons un réacteur chimique homogène décrit par l’évolution d’une température adimensionnée $\\theta$. La variable $\\theta$ vaut zéro au temps initial, elle est monotone croissante et, suite à un emballement thermique, elle va brutalement s’élever et atteindre la température adiabatique de flamme adimensionnée $T_r$ en fin de réaction. Sous certaines hypothèses sur la réaction (constante d’avancement sous la forme d’une loi d’Arrhenius, réaction globale d’ordre un par rapport à la fraction massique de combustible, adimensionnement du temps pour que le temps d’allumage se situe autour de\n",
    "1 - grande énergie d’activation), que nous de détaillerons pas, on arrive à une équation différentielle de la forme suivante :\n",
    "\n",
    "$$\n",
    "d_{\\tau} \\widetilde{\\theta} = f(\\widetilde{\\theta}) = \\exp\\Bigg(\\frac{\\widetilde{\\theta}}{1 + \\widetilde{\\theta} \\, / \\, \\beta}\\Bigg) \\Bigg(1 - \\frac{\\widetilde{\\theta}}{\\overline T_r} \\Bigg)\n",
    "$$\n",
    "\n",
    "où $\\beta$ est directement reliée à l’énergie d’activation ($\\beta = \\frac{E_a}{RT_0}$) où $E_a$ est l’énergie d’activation de la réaction, $R$ la contante des gaz parfaits et $T_0$ la température initiale dimensionnelle)."
   ]
  },
  {
   "cell_type": "code",
   "execution_count": null,
   "metadata": {
    "tags": [
     "hide-input"
    ]
   },
   "outputs": [],
   "source": [
    "class explosion_with_consumption_1eq_model:\n",
    "\n",
    "    def __init__(self, Tr, beta):\n",
    "        self.Tr = Tr\n",
    "        self.beta = beta \n",
    "\n",
    "    def fcn(self, t, theta):\n",
    "        beta = self.beta\n",
    "        Tr = self.Tr\n",
    "        theta_dot = np.exp(theta/(1+(theta/beta))) * (1-theta/Tr) \n",
    "        return theta_dot\n",
    "    \n",
    "    def jac(self, t, theta):\n",
    "        beta = self.beta\n",
    "        Tr = self.Tr\n",
    "        exp = np.exp(theta/(1+(theta/beta)))\n",
    "        return (exp/(1+theta/beta)**2) * (1-theta/Tr) - exp/Tr"
   ]
  },
  {
   "cell_type": "markdown",
   "metadata": {},
   "source": [
    "## Non linéarité du terme source \n",
    "\n",
    "La constante $\\beta$ pilote le caractère plus ou moins non-linéaire de l’équation comme le montrent la cellule suivante."
   ]
  },
  {
   "cell_type": "code",
   "execution_count": null,
   "metadata": {},
   "outputs": [],
   "source": [
    "Tr = 200.0\n",
    "\n",
    "theta = np.linspace(0, Tr, 1000)\n",
    "\n",
    "fig = make_subplots(rows=2, cols=1, subplot_titles=(\"Non-linearité du terme source\", \"Derivée du terme source\"))\n",
    "\n",
    "beta = np.arange(10, 100, 10)\n",
    "for i, beta_i in enumerate(beta):\n",
    "    emwc1eq = explosion_with_consumption_1eq_model(Tr, beta_i)\n",
    "    fcn = emwc1eq.fcn\n",
    "    jac = emwc1eq.jac\n",
    "    fig.add_trace(go.Scatter(visible=False, x=theta, y=fcn(0, theta), name='f'), row=1, col=1)\n",
    "    fig.add_trace(go.Scatter(visible=False, x=theta, y=jac(0, theta), name='df/dtheta'), row=2, col=1)\n",
    "    \n",
    "fig.data[0].visible = True\n",
    "fig.data[1].visible = True\n",
    "\n",
    "# create slider\n",
    "steps = []\n",
    "for i, beta_i in enumerate(beta):\n",
    "    step = dict(method=\"update\", label = f\"{beta_i}\", \n",
    "                args=[{\"visible\": [(el==2*i) or (el==2*i+1) for el in range(len(fig.data))]}])\n",
    "    steps.append(step)\n",
    "sliders = [dict(currentvalue={'prefix': 'beta = '}, steps=steps)]\n",
    "\n",
    "fig.update_layout(sliders=sliders, height=800)\n",
    "fig.update_xaxes(title_text=\"theta\", row=1, col=1)\n",
    "fig.update_yaxes(title_text=\"f(theta)\", row=1, col=1)\n",
    "fig.update_xaxes(title_text=\"theta\", row=2, col=1)\n",
    "fig.update_yaxes(title_text=\"df/dtheta\", row=2, col=1)\n",
    "fig['layout']['sliders'][0]['pad']=dict(t= 50)\n",
    "fig.show()"
   ]
  },
  {
   "cell_type": "markdown",
   "metadata": {},
   "source": [
    "## Solution"
   ]
  },
  {
   "cell_type": "code",
   "execution_count": null,
   "metadata": {
    "tags": [
     "hide-input"
    ]
   },
   "outputs": [],
   "source": [
    "class ode_result:\n",
    "    def __init__(self, y, t):\n",
    "        self.y = y\n",
    "        self.t = t\n",
    "\n",
    "def forward_euler(tini, tend, nt, yini, fcn):\n",
    "\n",
    "    dt = (tend-tini) / (nt-1)\n",
    "    t = np.linspace(tini, tend, nt)\n",
    "\n",
    "    yini = np.atleast_1d(yini)\n",
    "    neq = yini.size\n",
    "\n",
    "    y = np.zeros((neq, nt))\n",
    "    y[:,0] = yini\n",
    "\n",
    "    for it, tn  in enumerate(t[:-1]):\n",
    "        yn = y[:,it]\n",
    "        y[:,it+1] = yn + dt*np.atleast_1d(fcn(tn, yn))\n",
    "\n",
    "    return ode_result(y, t)\n",
    "\n",
    "def backward_euler(tini, tend, nt, yini, fcn):\n",
    "\n",
    "    dt = (tend-tini) / (nt-1)\n",
    "    t = np.linspace(tini, tend, nt)\n",
    "\n",
    "    yini = np.atleast_1d(yini)\n",
    "    neq = yini.size\n",
    "\n",
    "    y = np.zeros((neq, nt), order='F')\n",
    "    y[:,0] = yini\n",
    "\n",
    "    def g(uip1, *args):\n",
    "        uip, tip1 = args\n",
    "        return uip1 - uip - dt*np.array(fcn(tip1, uip1))\n",
    "\n",
    "    for it, tn  in enumerate(t[:-1]):\n",
    "        yn = y[:,it]\n",
    "        y0 = yn + dt*np.atleast_1d(fcn(tn, yn))\n",
    "        # solve y[:,it+1] - y[:,it] - dt * fcn(tini + (it+1)*dt, y[:,it+1]) = 0\n",
    "        sol = root(g, y0, (yn, tn+dt))\n",
    "        y[:,it+1] = sol.x\n",
    "\n",
    "    return ode_result(y, t)"
   ]
  },
  {
   "cell_type": "code",
   "execution_count": null,
   "metadata": {},
   "outputs": [],
   "source": [
    "Tr = 200.0\n",
    "beta = 10. # 10 très illustratif avec nt = 501 / 401 / 301 / 201 / 171\n",
    "\n",
    "emwc1eq = explosion_with_consumption_1eq_model(Tr, beta)\n",
    "fcn = emwc1eq.fcn\n",
    "jac = emwc1eq.jac\n",
    "\n",
    "tini = 0.0\n",
    "tend = 5.0\n",
    "nt = np.array([171, 201, 401, 501])\n",
    "\n",
    "yini = (0.,)\n",
    "\n",
    "fig =  make_subplots(rows=3, cols=1, subplot_titles=(\"Solution\", \"Valeur propre\", \"Valeur propre . dt\"))\n",
    "color = fig.layout.template.layout.colorway\n",
    "\n",
    "for i, nt_i in enumerate(nt):\n",
    "    \n",
    "    dt = (tend-tini) / (nt_i-1)\n",
    "\n",
    "    emwc1eq = explosion_with_consumption_1eq_model(Tr, beta)\n",
    "    fcn = emwc1eq.fcn\n",
    "    jac = emwc1eq.jac\n",
    "\n",
    "    sol_ref = solve_ivp(fcn, (tini, tend), yini, method='Radau', atol=1.e-8, rtol=1.e-8)\n",
    "    sol_fe = forward_euler(tini, tend, nt_i, yini, fcn)\n",
    "    sol_be = backward_euler(tini, tend, nt_i, yini, fcn)\n",
    "\n",
    "    fig.add_trace(go.Scatter(visible=False, x=sol_ref.t, y=sol_ref.y[0],  line_color=color[0], legendgroup='sol', \n",
    "                         legendgrouptitle_text=\"Solution\", name='sol. ref.'), row=1, col=1)\n",
    "    fig.add_trace(go.Scatter(visible=False, x=sol_fe.t, y=sol_fe.y[0], line_color=color[1], legendgroup='sol', \n",
    "                         legendgrouptitle_text=\"Solution\", name='Euler explicite'), row=1, col=1)\n",
    "    fig.add_trace(go.Scatter(visible=False, x=sol_be.t, y=sol_be.y[0], line_color=color[2], legendgroup='sol', \n",
    "                         legendgrouptitle_text=\"Solution\", name='Euler implicite'), row=1, col=1)\n",
    "\n",
    "    eig_vals_ref = np.zeros(sol_ref.t.size)\n",
    "    for it in range(sol_ref.t.size):\n",
    "        eig_vals_ref[it] = jac(0, sol_ref.y[:,it])\n",
    "    eig_vals_fe = np.zeros(sol_fe.t.size)\n",
    "    for it in range(sol_be.t.size):\n",
    "        eig_vals_fe[it] = jac(0, sol_fe.y[:,it])\n",
    "    eig_vals_be = np.zeros(sol_be.t.size)\n",
    "    for it in range(sol_be.t.size):\n",
    "        eig_vals_be[it] = jac(0, sol_be.y[:,it])\n",
    "\n",
    "    fig.add_trace(go.Scatter(visible=False, x=sol_ref.t, y=eig_vals_ref, line_color=color[0], legendgroup='eig', \n",
    "                         legendgrouptitle_text=\"Valeur propre\", name='sol. ref.'), row=2, col=1)\n",
    "    fig.add_trace(go.Scatter(visible=False, x=sol_fe.t, y=eig_vals_fe, line_color=color[1], legendgroup='eig', \n",
    "                         legendgrouptitle_text=\"Valeur propre\", name='Euler explicite'), row=2, col=1)\n",
    "    fig.add_trace(go.Scatter(visible=False, x=sol_be.t, y=eig_vals_be, line_color=color[2], legendgroup='eig', \n",
    "                         legendgrouptitle_text=\"Valeur propre\", name='Euler implicite'), row=2, col=1)\n",
    "\n",
    "    fig.add_trace(go.Scatter(visible=False, x=sol_fe.t, y=eig_vals_fe*dt, line_color=color[1], legendgroup='eigdt', \n",
    "                         legendgrouptitle_text=\"Valeur propre . dt\", name='Euler explicite'), row=3, col=1)\n",
    "    fig.add_trace(go.Scatter(visible=False, x=sol_be.t, y=eig_vals_be*dt, line_color=color[2], legendgroup='eigdt', \n",
    "                         legendgrouptitle_text=\"Valeur propre . dt\",  name='Euler implicite'), row=3, col=1)\n",
    "\n",
    "for i in range(3*8, 4*8): fig.data[i].visible = True\n",
    "\n",
    "# create slider\n",
    "steps = []\n",
    "for i, nt_i in enumerate(nt):\n",
    "    step = dict(method=\"update\", label = f\"{nt_i}\", \n",
    "                args=[{\"visible\": [(el==8*i) or (el==8*i+1) or (el==8*i+2) or (el==8*i+3) or (el==8*i+4) or (el==8*i+5)\n",
    "                                   or (el==8*i+6) or (el==8*i+7)  for el in range(len(fig.data))]}])\n",
    "    steps.append(step)\n",
    "sliders = [dict(active=3, currentvalue={'prefix': 'nt = '}, steps=steps)]\n",
    "\n",
    "fig.update_layout(sliders=sliders, height=1000, legend=dict(tracegroupgap=230))\n",
    "fig.show()"
   ]
  }
 ],
 "metadata": {
  "@webio": {
   "lastCommId": null,
   "lastKernelId": null
  },
  "celltoolbar": "Format de la Cellule Texte Brut",
  "kernelspec": {
   "display_name": "Python 3 (ipykernel)",
   "language": "python",
   "name": "python3"
  },
  "language_info": {
   "codemirror_mode": {
    "name": "ipython",
    "version": 3
   },
   "file_extension": ".py",
   "mimetype": "text/x-python",
   "name": "python",
   "nbconvert_exporter": "python",
   "pygments_lexer": "ipython3",
   "version": "3.9.7"
  },
  "latex_envs": {
   "LaTeX_envs_menu_present": true,
   "autoclose": false,
   "autocomplete": false,
   "bibliofile": "biblio.bib",
   "cite_by": "apalike",
   "current_citInitial": 1,
   "eqLabelWithNumbers": true,
   "eqNumInitial": 1,
   "hotkeys": {
    "equation": "Ctrl-E",
    "itemize": "Ctrl-I"
   },
   "labels_anchors": false,
   "latex_user_defs": false,
   "report_style_numbering": false,
   "user_envs_cfg": false
  }
 },
 "nbformat": 4,
 "nbformat_minor": 4
}
