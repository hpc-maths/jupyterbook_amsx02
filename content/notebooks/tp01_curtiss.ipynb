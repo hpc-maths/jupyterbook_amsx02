{
 "cells": [
  {
   "cell_type": "code",
   "execution_count": null,
   "metadata": {},
   "outputs": [],
   "source": [
    "#\n",
    "#    Notebook du cours AMSX02 - M. Massot 2020-2021 - Ecole polytechnique\n",
    "#    ----------   \n",
    "#    TP1 Intégration temporelle \n",
    "#    Exemple de Curtiss et Hirschefelder - Méthodes d'Euler explicite et implicite \n",
    "#    \n",
    "#    Auteurs : L. Séries et M. Massot - (C) 2021\n",
    "#    "
   ]
  },
  {
   "cell_type": "code",
   "execution_count": null,
   "metadata": {
    "hidePrompt": true,
    "scrolled": false
   },
   "outputs": [],
   "source": [
    "import numpy as np\n",
    "from scipy.optimize import root\n",
    "import plotly.graph_objects as go\n",
    "from plotly.subplots import make_subplots\n",
    "import plotly.io as pio\n",
    "pio.templates.default = \"seaborn\"\n",
    "# marker style\n",
    "marker01=dict(size=5, symbol='x-thin', line=dict(width=1, color='rgb(76,114,176)'))\n",
    "marker02=dict(size=5, symbol='x-thin', line=dict(width=1, color='rgb(221,132,82)'))"
   ]
  },
  {
   "cell_type": "markdown",
   "metadata": {},
   "source": [
    "# TP1 : Problème de Curtiss et Hirschfelder"
   ]
  },
  {
   "cell_type": "markdown",
   "metadata": {},
   "source": [
    "On considère le problème suivant :\n",
    "\n",
    "$$\n",
    "\\left\\{ \n",
    "\\begin{aligned} \n",
    "{\\mathrm d}_t y(t) & = k \\, \\big(cos(t) - y(t)) \\big) \\quad \\text{with } k > 1\\\\ \n",
    "y(0)  & = y_0 \n",
    "\\end{aligned} \n",
    "\\right. \n",
    "$$\n"
   ]
  },
  {
   "cell_type": "code",
   "execution_count": null,
   "metadata": {
    "scrolled": false,
    "tags": [
     "hide-input"
    ]
   },
   "outputs": [],
   "source": [
    "class curtiss_model:\n",
    "\n",
    "    def __init__(self, k):\n",
    "        self.k = k\n",
    "\n",
    "    def fcn(self, t, y) :\n",
    "        k = self.k\n",
    "        y_dot = k * (np.cos(t) - y)\n",
    "        return y_dot\n",
    "\n",
    "    def sol(self, yini, t0, t):\n",
    "        k = self.k\n",
    "        c0 = (yini - (k/(k*k + 1)) * (k*np.cos(t0) + np.sin(t0))) * np.exp(-k*t0)\n",
    "        y = (k/(k*k + 1)) * (k*np.cos(t) + np.sin(t)) +  c0 * np.exp(-k*t)\n",
    "        return y"
   ]
  },
  {
   "cell_type": "markdown",
   "metadata": {},
   "source": [
    "## Solution exacte\n",
    "\n",
    "La solution exacte est donnée par :\n",
    "\n",
    "$$\n",
    "y(t) = \\frac{k}{k^2+1} \\bigg( k \\cos(t) + \\sin(t) \\bigg) + c_0 \\, e^{-k t} \\quad\n",
    "\\text{avec} \\quad c_0 = \\bigg( y_0 -\\frac{k}{k^2 + 1} \\Big( k \\cos(t_0) + \\sin(t_0) \\Big) \\bigg)  e^{-k t_0}   \n",
    "$$"
   ]
  },
  {
   "cell_type": "code",
   "execution_count": null,
   "metadata": {
    "scrolled": false
   },
   "outputs": [],
   "source": [
    "yini = 2.\n",
    "tini = 0.\n",
    "tend = 2.\n",
    "k = 10.\n",
    "\n",
    "cm = curtiss_model(k)\n",
    "    \n",
    "texa = np.linspace(tini, tend, 1000)\n",
    "uexa = cm.sol(yini, tini, texa)\n",
    "\n",
    "fig = go.Figure()\n",
    "fig.add_trace(go.Scatter(x=texa, y=uexa, name='f(x)', marker_maxdisplayed=200))\n",
    "\n",
    "#create slider\n",
    "steps = []\n",
    "for k_i in range(10, 101, 10):\n",
    "    cm = curtiss_model(k_i)\n",
    "    step = dict(method=\"update\", label = f\"{k_i}\", args=[{\"y\": [cm.sol(yini, tini, texa)]}])\n",
    "    steps.append(step)\n",
    "sliders = [dict(currentvalue={'prefix': 'k = '}, steps=steps, pad={'t': 50})]\n",
    "\n",
    "fig.update_layout(sliders=sliders, title = 'Solution exacte du problème de Curtiss et Hirschfelder', \n",
    "                  xaxis_title=\"t\", yaxis_title=\"y\")\n",
    "\n",
    "fig.show()"
   ]
  },
  {
   "cell_type": "markdown",
   "metadata": {},
   "source": [
    "## Euler explicite\n",
    "\n",
    "La méthode d'Euler explicite pour résoudre \n",
    "$${\\mathrm d}_t y(t) = f(t,u)$$\n",
    "avec $y(0)=y_0$ s'écrit :\n",
    "\n",
    "$$\n",
    "\\left\\{\n",
    "\\begin{aligned}\n",
    "& y^0 = y_0 \\\\\n",
    "& y^{n+1} = y^n + \\Delta t \\; f(t^n,y^n) \\quad \\text{où} \\quad \\Delta t = t^{n+1} - t^n\n",
    "\\end{aligned}\n",
    "\\right.\n",
    "$$"
   ]
  },
  {
   "cell_type": "code",
   "execution_count": null,
   "metadata": {
    "scrolled": false,
    "tags": [
     "hide-input"
    ]
   },
   "outputs": [],
   "source": [
    "class ode_result:\n",
    "    def __init__(self, y, t):\n",
    "        self.y = y\n",
    "        self.t = t\n",
    "\n",
    "def forward_euler(tini, tend, nt, yini, fcn):\n",
    "\n",
    "    dt = (tend-tini) / (nt-1)\n",
    "    t = np.linspace(tini, tend, nt)\n",
    "\n",
    "    yini = np.atleast_1d(yini)\n",
    "    neq = yini.size\n",
    "\n",
    "    y = np.zeros((neq, nt))\n",
    "    y[:,0] = yini\n",
    "\n",
    "    for it, tn  in enumerate(t[:-1]):\n",
    "        yn = y[:,it]\n",
    "        y[:,it+1] = yn + dt*np.atleast_1d(fcn(tn, yn))\n",
    "\n",
    "    return ode_result(y, t)"
   ]
  },
  {
   "cell_type": "markdown",
   "metadata": {},
   "source": [
    "### Solution numérique et erreur"
   ]
  },
  {
   "cell_type": "code",
   "execution_count": null,
   "metadata": {
    "tags": [
     "hide-input"
    ]
   },
   "outputs": [],
   "source": [
    "def sol_and_error_curtiss(yini, tini, tend, k, nt, method):\n",
    "    \n",
    "    if method == forward_euler:\n",
    "        str_method = \"Euler explicite\"\n",
    "    elif method == backward_euler:\n",
    "        str_method = \"Euler implicite\"\n",
    "    else:\n",
    "        print(\"Méthode inconnue pour la fonction\")\n",
    "        return\n",
    "    \n",
    "    cm = curtiss_model(k)\n",
    "    fcn = cm.fcn\n",
    "    \n",
    "    texa = np.linspace(tini, tend, 500)\n",
    "    yexa = cm.sol(yini, tini, texa)\n",
    "\n",
    "    nt_max= nt[-1]\n",
    "    dt_max = (tend-tini)/(nt_max-1)\n",
    "    sol = method(tini, tend, nt_max, yini, fcn)\n",
    "    err = np.abs(sol.y[0]-cm.sol(yini, tini, sol.t))[1:]\n",
    "    \n",
    "    # first plot\n",
    "    fig = make_subplots(rows=2, cols=1, subplot_titles=(str_method, \"Erreur globale\"), vertical_spacing=0.1)\n",
    "    color = fig.layout.template.layout.colorway\n",
    "    fig.add_trace(go.Scatter(x=texa, y=yexa, name='Sol. exacte', line_color='grey', legendgroup = 'sol'), \n",
    "                  row=1, col=1)\n",
    "    fig.add_trace(go.Scatter(x=sol.t, y=sol.y[0], mode='markers+lines', line_dash='dot', marker=marker01, \n",
    "                             line_color=color[0], name='Sol. num', legendgroup = 'sol'), row=1, col=1)\n",
    "    fig.add_trace(go.Scatter(x=sol.t[1:], y=err, mode='markers+lines', line_dash='dot', marker=marker02, \n",
    "                             line_color=color[1], name='erreur', legendgroup = 'err'), row=2, col=1)\n",
    "    \n",
    "    # create slider\n",
    "    steps = []\n",
    "    for i, nt_i in enumerate(nt):\n",
    "        sol = method(tini, tend, nt_i, yini, fcn)\n",
    "        err = np.abs(sol.y[0]-cm.sol(yini, tini, sol.t))[1:]\n",
    "        dt = (tend-tini)/(nt_i-1)\n",
    "        step = dict(method=\"update\", label = f\"{nt_i}\", args=[{\"x\": [texa, sol.t, sol.t[1:]], \n",
    "                                                               \"y\": [yexa, sol.y[0], err]},\n",
    "                {\"title\": f\"Solution and error for k={int(k)}, dt={dt:.4e} and k.dt={k*dt:.2f}\"}])\n",
    "        steps.append(step)\n",
    "\n",
    "    sliders = [dict(active=len(nt)-1, currentvalue={\"prefix\": \"nt : \"}, steps=steps)]\n",
    "\n",
    "    fig.update_yaxes(exponentformat='e', col=1)\n",
    "    legend = dict(tracegroupgap=300, groupclick=\"toggleitem\", x=0.8, bgcolor='rgba(0,0,0,0)')\n",
    "    fig.update_layout(height=800, sliders=sliders, legend=legend, \n",
    "                      title=f\"Solution and error for k={int(k)}, dt={dt_max:.4e} and k.dt={k*dt:.2f}\")\n",
    "\n",
    "    fig.show()"
   ]
  },
  {
   "cell_type": "code",
   "execution_count": null,
   "metadata": {},
   "outputs": [],
   "source": [
    "yini = 2.\n",
    "tini = 0.\n",
    "tend = 2.\n",
    "k = 50.\n",
    "\n",
    "nt_max = 200\n",
    "nt = np.hstack((np.arange(k-5, k+2, 1, dtype=int) , np.geomspace(k+2, nt_max, num=12, dtype=int)))\n",
    "\n",
    "sol_and_error_curtiss(yini, tini, tend, k, nt, forward_euler)"
   ]
  },
  {
   "cell_type": "markdown",
   "metadata": {},
   "source": [
    "### Ordre"
   ]
  },
  {
   "cell_type": "code",
   "execution_count": null,
   "metadata": {
    "scrolled": false
   },
   "outputs": [],
   "source": [
    "yini = 2.\n",
    "tini = 0.\n",
    "tend = 2.\n",
    "cm = curtiss_model(k=50)\n",
    "fcn = cm.fcn\n",
    "\n",
    "nt = np.array([151, 1501, 15001, 150001])\n",
    "\n",
    "err_1   = np.zeros_like(nt, dtype=float)\n",
    "err_2   = np.zeros_like(nt, dtype=float)\n",
    "err_inf = np.zeros_like(nt, dtype=float)\n",
    "\n",
    "for i, nt_i in enumerate(nt):\n",
    "    sol = forward_euler(tini, tend, nt_i, yini, fcn)\n",
    "    yerr = np.abs(cm.sol(yini, tini, sol.t) - sol.y[0])\n",
    "    err_1[i]   = np.linalg.norm(yerr,1) / nt_i\n",
    "    err_2[i]   = np.linalg.norm(yerr) / np.sqrt(nt_i)   \n",
    "    err_inf[i] = np.linalg.norm(yerr,np.inf) \n",
    "\n",
    "dt = (tend-tini)/(nt-1)\n",
    "\n",
    "fig = go.Figure()\n",
    "fig.add_trace(go.Scatter(x=dt, y=err_1, name='Norme l1'))\n",
    "fig.add_trace(go.Scatter(x=dt, y=err_2, name='Norme l2'))\n",
    "fig.add_trace(go.Scatter(x=dt, y=err_inf, name='Norme linf'))\n",
    "fig.add_trace(go.Scatter(x=dt, y=dt, mode='lines', line_dash='dot', name='pente 1'))\n",
    "fig.update_xaxes(type='log', exponentformat='e', title='dt')\n",
    "fig.update_yaxes(type='log', exponentformat='e', title=\"Norme de l'erreur\")\n",
    "fig.show()"
   ]
  },
  {
   "cell_type": "markdown",
   "metadata": {},
   "source": [
    "## Euler implicite\n",
    "\n",
    "La méthode d'Euler implicite pour résoudre \n",
    "$${\\mathrm d}_t y(t) = f(t,u)$$\n",
    "avec $y(0)=y_0$ s'écrit :\n",
    "\n",
    "$$\n",
    "\\left\\{\n",
    "\\begin{aligned}\n",
    "& y^0 = y_0 \\\\\n",
    "& y^{n+1} = y^n + \\Delta t \\; f(t^{n+1},U^{n+1}) \\quad \\text{où} \\quad \\Delta t = t^{n+1} - t^n\n",
    "\\end{aligned}\n",
    "\\right.\n",
    "$$"
   ]
  },
  {
   "cell_type": "code",
   "execution_count": null,
   "metadata": {
    "scrolled": false,
    "tags": [
     "hide-input"
    ]
   },
   "outputs": [],
   "source": [
    "def backward_euler(tini, tend, nt, yini, fcn):\n",
    "\n",
    "    dt = (tend-tini) / (nt-1)\n",
    "    t = np.linspace(tini, tend, nt)\n",
    "\n",
    "    yini = np.atleast_1d(yini)\n",
    "    neq = yini.size\n",
    "\n",
    "    y = np.zeros((neq, nt), order='F')\n",
    "    y[:,0] = yini\n",
    "\n",
    "    def g(uip1, *args):\n",
    "        uip, tip1 = args\n",
    "        return uip1 - uip - dt*np.array(fcn(tip1, uip1))\n",
    "\n",
    "    for it, tn  in enumerate(t[:-1]):\n",
    "        yn = y[:,it]\n",
    "        y0 = yn + dt*np.atleast_1d(fcn(tn, yn))\n",
    "        # solve y[:,it+1] - y[:,it] - dt * fcn(tini + (it+1)*dt, y[:,it+1]) = 0\n",
    "        sol = root(g, y0, (yn, tn+dt))\n",
    "        y[:,it+1] = sol.x\n",
    "\n",
    "    return ode_result(y, t)"
   ]
  },
  {
   "cell_type": "markdown",
   "metadata": {},
   "source": [
    "### Solution et erreur"
   ]
  },
  {
   "cell_type": "code",
   "execution_count": null,
   "metadata": {},
   "outputs": [],
   "source": [
    "yini = 2.\n",
    "tini = 0.\n",
    "tend = 2.\n",
    "k = 60.\n",
    "\n",
    "nt_max = 200\n",
    "nt = np.linspace(10, nt_max, 20, dtype=int)\n",
    "\n",
    "sol_and_error_curtiss(yini, tini, tend, k, nt, backward_euler)"
   ]
  },
  {
   "cell_type": "markdown",
   "metadata": {},
   "source": [
    "### Ordre"
   ]
  },
  {
   "cell_type": "code",
   "execution_count": null,
   "metadata": {},
   "outputs": [],
   "source": [
    "yini = 2.\n",
    "tini = 0.\n",
    "tend = 2.\n",
    "cm = curtiss_model(k=50)\n",
    "fcn = cm.fcn\n",
    "\n",
    "nt = np.array([151, 1501, 15001, 150001])\n",
    "\n",
    "err_1   = np.zeros_like(nt, dtype=float)\n",
    "err_2   = np.zeros_like(nt, dtype=float)\n",
    "err_inf = np.zeros_like(nt, dtype=float)\n",
    "\n",
    "for i, nt_i in enumerate(nt):\n",
    "    sol = backward_euler(tini, tend, nt_i, yini, fcn)\n",
    "    yerr = np.abs(cm.sol(yini, tini, sol.t) - sol.y[0])\n",
    "    err_1[i]   = np.linalg.norm(yerr,1) / nt_i\n",
    "    err_2[i]   = np.linalg.norm(yerr) / np.sqrt(nt_i)   \n",
    "    err_inf[i] = np.linalg.norm(yerr,np.inf) \n",
    "\n",
    "dt = (tend-tini)/(nt-1)\n",
    "\n",
    "fig = go.Figure()\n",
    "fig.add_trace(go.Scatter(x=dt, y=err_1, name='Norme l1'))\n",
    "fig.add_trace(go.Scatter(x=dt, y=err_2, name='Norme l2'))\n",
    "fig.add_trace(go.Scatter(x=dt, y=err_inf, name='Norme linf'))\n",
    "fig.add_trace(go.Scatter(x=dt, y=dt, mode='lines', line_dash='dot', name='pente 1'))\n",
    "fig.update_xaxes(type='log', exponentformat='e', title='dt')\n",
    "fig.update_yaxes(type='log', exponentformat='e', title=\"Norme de l'erreur\")\n",
    "fig.show()"
   ]
  }
 ],
 "metadata": {
  "@webio": {
   "lastCommId": null,
   "lastKernelId": null
  },
  "celltoolbar": "Format de la Cellule Texte Brut",
  "kernelspec": {
   "display_name": "Python 3 (ipykernel)",
   "language": "python",
   "name": "python3"
  },
  "language_info": {
   "codemirror_mode": {
    "name": "ipython",
    "version": 3
   },
   "file_extension": ".py",
   "mimetype": "text/x-python",
   "name": "python",
   "nbconvert_exporter": "python",
   "pygments_lexer": "ipython3",
   "version": "3.9.7"
  }
 },
 "nbformat": 4,
 "nbformat_minor": 2
}
